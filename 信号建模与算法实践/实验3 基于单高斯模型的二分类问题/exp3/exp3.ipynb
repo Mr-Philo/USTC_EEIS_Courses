{
 "cells": [
  {
   "cell_type": "markdown",
   "metadata": {},
   "source": [
    "# 实验三 基于单高斯模型的二分类\n",
    "PB19071509 王瑞哲\n",
    "\n",
    "## >>> 实验目标\n",
    "\n",
    "用多元高斯模型解决二分类问题。假设两类有相同的先验概率。每个观测样本的特征是3维向量。基于训练数据`Train.txt`创建单高斯模型，然后用估计的模型对测试数据进行分类`Test.txt`\n",
    "\n",
    "## >>> 实验原理\n",
    "\n",
    "多元高斯分布：\n",
    "$$G(\\vec{x}|\\vec{\\mu},\\Sigma)=\\frac{1}{(2\\pi)^{d/2}\\det(\\Sigma)^{1/2}}\\exp\\bigg(-\\frac{1}{2}(\\vec{x}-\\vec{\\mu})^T\\Sigma^{-1}(\\vec{x}-\\vec{\\mu})\\bigg)$$\n",
    "其中$\\vec{x}$为$d$维随机向量\n",
    "\n",
    "根据最大似然估计，利用多个样本来估计该多元高斯分布概率分布时，需知道其均值$\\vec{\\mu}$和协方差矩阵$\\Sigma$。其公式分别为：\n",
    "$$\\vec{\\mu} = \\frac{1}{m}\\sum_{i=1}^{m}\\vec{x_i}$$\n",
    "$$\\Sigma = \\frac{1}{m-1}\\sum_{i=1}^{m}(\\vec{x}-\\vec{\\mu})(\\vec{x}-\\vec{\\mu})^T$$\n",
    "\n",
    "## >>> 实验过程\n",
    "\n",
    "导入必要的包；定义导入训练、测试数据的函数"
   ]
  },
  {
   "cell_type": "code",
   "execution_count": 103,
   "metadata": {},
   "outputs": [],
   "source": [
    "import numpy as np\n",
    "import re\n",
    "\n",
    "def dataloader(filename):\n",
    "    f = open(filename, \"r\")\n",
    "    A_Set = []\n",
    "    B_Set = []\n",
    "    for line in f.readlines():\n",
    "        cls = 1 if line[0]=='A' else 0\n",
    "        data = re.search(r\"(?<=\\().*(?=\\))\", line).group()  # Using regular expressions match data\n",
    "        if cls:\n",
    "            A_Set.append(data.split(' '))\n",
    "        else:\n",
    "            B_Set.append(data.split(' '))\n",
    "    # assert input matrix: [dimension*num_samples] every col represents a sample\n",
    "    A_Set = np.array(A_Set).astype(float).T     # 1.Change list to np.array; 2.Change data type for future calculation; 3.Matrix transpose\n",
    "    B_Set = np.array(B_Set).astype(float).T\n",
    "    return A_Set, B_Set"
   ]
  },
  {
   "cell_type": "markdown",
   "metadata": {},
   "source": [
    "定义一个多元高斯分布模型类，该类接收训练数据，计算其均值与方差的最大似然估计，以此生成模型，并可以根据输入数据来计算模型计算结果"
   ]
  },
  {
   "cell_type": "code",
   "execution_count": 104,
   "metadata": {},
   "outputs": [],
   "source": [
    "from scipy.stats import multivariate_normal\n",
    "\n",
    "class Gaussian_model():\n",
    "    def __init__(self) -> None:\n",
    "        self.mu = 0\n",
    "        self.sigma = 1\n",
    "        self.dimention = 1\n",
    "\n",
    "    def getModel(self, trainData):\n",
    "        # assert input matrix: [dimension*num_samples] every col represents a sample\n",
    "        self.mu = np.mean(trainData, axis=1)\n",
    "        self.sigma = np.cov(trainData)\n",
    "        self.dimention = len(self.mu)\n",
    "        return self\n",
    "\n",
    "    def forward(self, input):\n",
    "        assert len(input)==self.dimention, \"Dimension dismatching error! This is a {}-dimensional Gaussian model, please check your input data dimension!\".format(self.dimention)\n",
    "        model = multivariate_normal(self.mu, self.sigma)        # Fuction for multivariate_normal computing\n",
    "        return model.pdf(input)"
   ]
  },
  {
   "cell_type": "markdown",
   "metadata": {},
   "source": [
    "定义评估函数，来判断训练得到的结果在测试集上的准确率"
   ]
  },
  {
   "cell_type": "code",
   "execution_count": 105,
   "metadata": {},
   "outputs": [],
   "source": [
    "def evaluation(modelA, modelB, filename):\n",
    "    Test_A, Test_B = dataloader(filename)\n",
    "    acc_num = 0\n",
    "    for i in Test_A.T:      # switch set to [num_samples*dimension] for convinence\n",
    "        if modelA.forward(i) >= modelB.forward(i):\n",
    "            acc_num += 1\n",
    "    for i in Test_B.T:\n",
    "        if modelB.forward(i) >= modelA.forward(i):\n",
    "            acc_num += 1\n",
    "    acc = acc_num / (Test_A.shape[1] + Test_B.shape[1])\n",
    "    return acc"
   ]
  },
  {
   "cell_type": "markdown",
   "metadata": {},
   "source": [
    "正式开始训练与推断"
   ]
  },
  {
   "cell_type": "code",
   "execution_count": 106,
   "metadata": {},
   "outputs": [
    {
     "name": "stdout",
     "output_type": "stream",
     "text": [
      "The acc of this Gaussian Model is 75.663%\n"
     ]
    }
   ],
   "source": [
    "# train\n",
    "Train_set_A, Train_set_B = dataloader(\"Train.txt\")\n",
    "G_A = Gaussian_model()\n",
    "G_B = Gaussian_model()\n",
    "G_A = G_A.getModel(Train_set_A)\n",
    "G_B = G_B.getModel(Train_set_B)\n",
    "# infer\n",
    "acc = evaluation(G_A, G_B, \"Test.txt\")\n",
    "print(\"The acc of this Gaussian Model is {:.3f}%\".format(100*acc))"
   ]
  },
  {
   "cell_type": "markdown",
   "metadata": {},
   "source": [
    "## >>> 实验总结\n",
    "\n",
    "通过本次实验，我了解了多元高斯模型的基本理论基础，学会了利用代码编写训练单个多元高斯模型的过程，并将其应用于模型评测中\n",
    "\n",
    "除此之外，本次代码中多采用类、函数来实现功能，这为接下来将本次实验所定义的内容转移到下一次实验多个多元高斯模型将有很大帮助。\n",
    "\n",
    "同时注意到，本次实验的准确率预测结果约为75%，还有进步的空间，这一点可能会在下一次混合高斯模型的实验中所体现。"
   ]
  }
 ],
 "metadata": {
  "kernelspec": {
   "display_name": "Python 3.6.13 ('pytorch')",
   "language": "python",
   "name": "python3"
  },
  "language_info": {
   "codemirror_mode": {
    "name": "ipython",
    "version": 3
   },
   "file_extension": ".py",
   "mimetype": "text/x-python",
   "name": "python",
   "nbconvert_exporter": "python",
   "pygments_lexer": "ipython3",
   "version": "3.6.13"
  },
  "orig_nbformat": 4,
  "vscode": {
   "interpreter": {
    "hash": "719f98299ccca36a884f9d141671719e20aaacc8082e234f139e455a4a5b836e"
   }
  }
 },
 "nbformat": 4,
 "nbformat_minor": 2
}
