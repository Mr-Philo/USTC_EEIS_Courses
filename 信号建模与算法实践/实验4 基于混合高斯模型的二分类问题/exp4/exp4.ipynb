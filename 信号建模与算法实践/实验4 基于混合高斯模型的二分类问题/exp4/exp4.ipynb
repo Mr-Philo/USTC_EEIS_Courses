{
 "cells": [
  {
   "cell_type": "markdown",
   "metadata": {},
   "source": [
    "# 实验四 基于混合高斯模型的二分类\n",
    "PB19071509 王瑞哲\n",
    "\n",
    "## >>> 实验目标\n",
    "\n",
    "基于实验3利用单个多元高斯模型解决二分类问题，这里利用混合多个高斯模型来解决二分类问题。假设两类有相同的先验概率。每个观测样本的特征是3维向量。用 k-means 来初始化 GMM，然后基于 EM 算法来迭代提升 GMM 模型预测准确率。尝试分别使用 2，4，8 mixture 的 GMM 来建模此分类问题\n",
    "\n",
    "## >>> 实验原理\n",
    "\n",
    "高斯混合模型（GMM）可以看作是由 K 个单高斯模型组合而成的模型。混合高斯模型：\n",
    "$$\\ln p(\\vec{X}|\\vec{\\mu},\\vec{\\Sigma},\\vec{\\pi})=\\sum_{n=1}^N\\ln\\bigg\\{\\sum_{k=1}^K\\pi_k\\mathcal{N}(\\vec{x}|\\vec{\\mu_k},\\vec{\\Sigma_k})\\bigg\\}$$\n",
    "$$\\mathcal{N}(\\vec{x}|\\vec{\\mu_k},\\vec{\\Sigma_k})=\\frac{1}{(2\\pi)^{D/2}}\\frac{1}{|\\Sigma_k|^{1/2}}\\exp\\bigg(-\\frac{1}{2}(\\vec{x}-\\vec{\\mu_k})^T\\vec{\\Sigma_k}^{-1}(\\vec{x}-\\vec{\\mu_k})\\bigg)$$\n",
    "其中各参数的计算方法：\n",
    "$$\\vec{\\mu}_k = \\frac{1}{N_k}\\sum_{n=1}^N\\gamma_{nk}\\vec{x}_n, where: N_k=\\sum_{n=1}^N\\gamma_{nk}$$\n",
    "$$\\Sigma_k=\\frac{1}{N_k}\\sum_{n=1}^N\\gamma_{nk}(\\vec{x}_n-\\vec{\\mu}_k)(\\vec{x}_n-\\vec{\\mu}_k)^T$$\n",
    "$$\\hat\\pi_k=\\frac{N_k}{N}$$\n",
    "\n",
    "K-Means算法是一种聚类分析（cluster analysis）的算法，其主要是来计算数据聚集的算法，主要通过不断地取离种子点最近均值的算法。它适用于无监督的学习，事先不知道类别，自动将相似的对象归到同一个簇中。\n",
    "\n",
    "\n",
    "## >>> 实验过程\n",
    "\n",
    "导入必要的包；定义导入训练、测试数据的函数"
   ]
  },
  {
   "cell_type": "code",
   "execution_count": 138,
   "metadata": {},
   "outputs": [],
   "source": [
    "import numpy as np\n",
    "import re\n",
    "\n",
    "def dataloader(filename):\n",
    "    f = open(filename, \"r\")\n",
    "    A_Set = []\n",
    "    B_Set = []\n",
    "    for line in f.readlines():\n",
    "        cls = 1 if line[0]=='A' else 0\n",
    "        data = re.search(r\"(?<=\\().*(?=\\))\", line).group()  # Using regular expressions match data\n",
    "        if cls:\n",
    "            A_Set.append(data.split(' '))\n",
    "        else:\n",
    "            B_Set.append(data.split(' '))\n",
    "    # assert input matrix: [num_samples*dimension] every row represents a sample\n",
    "    A_Set = np.array(A_Set).astype(float)     # 1.Change list to np.array; 2.Change data type for future calculation\n",
    "    B_Set = np.array(B_Set).astype(float)\n",
    "    return A_Set, B_Set"
   ]
  },
  {
   "cell_type": "markdown",
   "metadata": {},
   "source": [
    "定义具有k个多元高斯模型的混合高斯模型类"
   ]
  },
  {
   "cell_type": "code",
   "execution_count": 139,
   "metadata": {},
   "outputs": [],
   "source": [
    "from scipy.stats import multivariate_normal\n",
    "from sklearn.cluster import KMeans\n",
    "# from tqdm import tqdm\n",
    "\n",
    "class Mul_Gaussian_model():\n",
    "    def __init__(self, num_of_models, dimension) -> None:\n",
    "        self.num_of_models = num_of_models\n",
    "        self.dimension = dimension\n",
    "        self.mu = np.zeros([num_of_models, dimension])\n",
    "        self.sigma = np.ones([num_of_models, dimension, dimension])\n",
    "        self.mix_coeffi = np.ones([num_of_models]) / num_of_models\n",
    "\n",
    "    def initModel(self, trainData):\n",
    "        # assert input matrix: [num_samples*dimension] every row represents a sample\n",
    "        kmeans = KMeans(n_clusters=self.num_of_models).fit(trainData)\n",
    "        # calculate each set of parameters of each Gaussian Model\n",
    "        for i in range(self.num_of_models):\n",
    "            data = trainData[kmeans.labels_==i]\n",
    "            self.mu[i] = np.mean(data, axis=0)                              # calculate mean (followed by row)\n",
    "            self.sigma[i] = np.cov(data.T)                                  # calculate varience (need transpose to get [dimension*dimension] result)\n",
    "            self.mix_coeffi[i] = np.sum(kmeans.labels_==i) / len(trainData)    # update the mixing coefficents\n",
    "\n",
    "        return self\n",
    "\n",
    "    def trainModel(self, trainData, num_of_iter=100):\n",
    "\n",
    "        # train model based on EM algorithm\n",
    "        for _ in range(num_of_iter):\n",
    "            \n",
    "            # calculate density\n",
    "            density = np.empty((len(trainData), self.num_of_models))\n",
    "            for i in range(self.num_of_models):\n",
    "                norm = multivariate_normal(self.mu[i], self.sigma[i])\n",
    "                density[:,i] = norm.pdf(trainData)\n",
    "            # calculate N_k based on the formular\n",
    "            posterior = density * self.mix_coeffi\n",
    "            posterior = posterior / posterior.sum(axis=1, keepdims=True)\n",
    "            N_k = posterior.sum(axis=0)\n",
    "            # caculate mu, sigma\n",
    "            mu_hat = np.tensordot(posterior, trainData, axes=[0, 0])\n",
    "            sigma_hat = np.empty(self.sigma.shape)\n",
    "            for i in range(self.num_of_models):\n",
    "                tmp = trainData - self.mu[i]\n",
    "                sigma_hat[i] = np.dot(tmp.T*posterior[:,i], tmp) / N_k[i]\n",
    "            # update all the parameters\n",
    "            self.sigma = sigma_hat\n",
    "            self.mu = mu_hat / N_k.reshape(-1,1)\n",
    "            self.mix_coeffi = N_k / len(trainData)\n",
    "\n",
    "        return self\n",
    "\n",
    "    def forward(self, input):\n",
    "        p = np.zeros([self.num_of_models])\n",
    "        for i in range(self.num_of_models):\n",
    "            norm = multivariate_normal(self.mu[i], self.sigma[i])\n",
    "            p[i] = norm.pdf(input)\n",
    "        return p.mean()"
   ]
  },
  {
   "cell_type": "markdown",
   "metadata": {},
   "source": [
    "定义评估函数，来判断训练得到的结果在测试集上的准确率"
   ]
  },
  {
   "cell_type": "code",
   "execution_count": 140,
   "metadata": {},
   "outputs": [],
   "source": [
    "def evaluation(modelA, modelB, filename):\n",
    "    Test_A, Test_B = dataloader(filename)\n",
    "    acc_num = 0\n",
    "    for i in Test_A:\n",
    "        if modelA.forward(i) >= modelB.forward(i):\n",
    "            acc_num += 1\n",
    "    for i in Test_B:\n",
    "        if modelB.forward(i) >= modelA.forward(i):\n",
    "            acc_num += 1\n",
    "    acc = acc_num / (Test_A.shape[0] + Test_B.shape[0])\n",
    "    return acc"
   ]
  },
  {
   "cell_type": "markdown",
   "metadata": {},
   "source": [
    "正式开始训练与推断"
   ]
  },
  {
   "cell_type": "code",
   "execution_count": 141,
   "metadata": {},
   "outputs": [
    {
     "name": "stdout",
     "output_type": "stream",
     "text": [
      "The acc of this Gaussian Model is 76.506%\n"
     ]
    }
   ],
   "source": [
    "def train_and_infer(num_of_models, num_of_iter):\n",
    "    #  train\n",
    "    Train_set_A, Train_set_B = dataloader(\"Train.txt\")\n",
    "    G_A = Mul_Gaussian_model(num_of_models, dimension=3)\n",
    "    G_B = Mul_Gaussian_model(num_of_models, dimension=3)\n",
    "    G_A = G_A.initModel(Train_set_A)\n",
    "    G_A = G_A.trainModel(Train_set_A, num_of_iter)\n",
    "    G_B = G_B.initModel(Train_set_B)\n",
    "    G_B = G_B.trainModel(Train_set_B, num_of_iter)\n",
    "    \n",
    "    # infer\n",
    "    acc = evaluation(G_A, G_B, \"Test.txt\")\n",
    "    return acc\n",
    "\n",
    "acc = train_and_infer(num_of_models=2, num_of_iter=100)\n",
    "print(\"The acc of this Gaussian Model is {:.3f}%\".format(100*acc))"
   ]
  },
  {
   "cell_type": "markdown",
   "metadata": {},
   "source": [
    "比较模型个数为2，4，8时的预测准确率，并对比不同迭代次数的预测结果"
   ]
  },
  {
   "cell_type": "code",
   "execution_count": 142,
   "metadata": {},
   "outputs": [],
   "source": [
    "num_list = [2, 4, 8]\n",
    "iter_list = [0, 10, 20, 30, 40, 50, 100, 150, 200, 250, 300, 350, 400]\n",
    "acc_all = np.zeros([len(num_list), len(iter_list)])\n",
    "for i,num in enumerate(num_list):\n",
    "    for j,iter in enumerate(iter_list):\n",
    "        acc = train_and_infer(num_of_models=num, num_of_iter=iter)\n",
    "        acc_all[i][j] = acc"
   ]
  },
  {
   "cell_type": "code",
   "execution_count": 143,
   "metadata": {},
   "outputs": [
    {
     "data": {
      "image/png": "[encoded data removed]",
      "text/plain": [
       "<Figure size 432x288 with 1 Axes>"
      ]
     },
     "metadata": {
      "needs_background": "light"
     },
     "output_type": "display_data"
    }
   ],
   "source": [
    "import matplotlib.pyplot as plt\n",
    "\n",
    "plt.figure()\n",
    "plt.plot(iter_list, acc_all[0], color='gold', label='K = 2')\n",
    "plt.plot(iter_list, acc_all[1], color='orange', label='K = 4')\n",
    "plt.plot(iter_list, acc_all[2], color='orangered', label='K = 8')\n",
    "plt.title(\"Results of different GMM model\")\n",
    "plt.xlabel(\"number of iterations\")\n",
    "plt.ylabel(\"accuracy\")\n",
    "plt.grid()\n",
    "plt.legend()\n",
    "plt.show()"
   ]
  },
  {
   "cell_type": "markdown",
   "metadata": {},
   "source": [
    "## >>> 实验总结\n",
    "\n",
    "通过本次实验，我了解了混合多元高斯模型的基本理论基础，了解了KMeans算法和EM算法，学会了利用代码编写训练混合多元高斯模型的过程，并将其应用于模型评测中\n",
    "\n",
    "除此之外，本次代码中继承了实验三所定义的各种的类、函数，同时在类内定义了更多丰富的功能，并在推理阶段定义了绘图函数以更清晰地展示训练结果\n",
    "\n",
    "在实验三中，单个高斯模型的准确率结果约为75.7%。在本次实验中，2个模型混合后准确率预测结果约为76.5%，虽然比单个模型准确率高，但其准确率在迭代过程增加的过程中并没有进一步增加，所以说明二模型混合的拟合能力仍有提高空间。4模型混合后准确率预测结果随迭代过程增加有明显增长，且最后能稳定在80.5%左右，表现较好。8模型混合后准确率预测结果随迭代过程增加有较大波动，且数值结果不如4模型，说明应是出现了过拟合现象。\n",
    "\n",
    "综上，混合多元高斯模型的拟合能力整体上比单个多元高斯模型好很多，但同时也需根据训练集规模和具体问题情况来选择模型的复杂度，以此获得更好的模型拟合能力。"
   ]
  }
 ],
 "metadata": {
  "kernelspec": {
   "display_name": "Python 3.6.13 ('pytorch')",
   "language": "python",
   "name": "python3"
  },
  "language_info": {
   "codemirror_mode": {
    "name": "ipython",
    "version": 3
   },
   "file_extension": ".py",
   "mimetype": "text/x-python",
   "name": "python",
   "nbconvert_exporter": "python",
   "pygments_lexer": "ipython3",
   "version": "3.6.13"
  },
  "orig_nbformat": 4,
  "vscode": {
   "interpreter": {
    "hash": "719f98299ccca36a884f9d141671719e20aaacc8082e234f139e455a4a5b836e"
   }
  }
 },
 "nbformat": 4,
 "nbformat_minor": 2
}
